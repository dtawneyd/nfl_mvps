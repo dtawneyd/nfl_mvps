{
  "nbformat": 4,
  "nbformat_minor": 0,
  "metadata": {
    "colab": {
      "provenance": [],
      "authorship_tag": "ABX9TyPM4gwpo0yM7kReLlXCwD26",
      "include_colab_link": true
    },
    "kernelspec": {
      "name": "python3",
      "display_name": "Python 3"
    },
    "language_info": {
      "name": "python"
    }
  },
  "cells": [
    {
      "cell_type": "markdown",
      "metadata": {
        "id": "view-in-github",
        "colab_type": "text"
      },
      "source": [
        "<a href=\"https://colab.research.google.com/github/dtawneyd/nfl_mvps/blob/main/nfl_mvps.ipynb\" target=\"_parent\"><img src=\"https://colab.research.google.com/assets/colab-badge.svg\" alt=\"Open In Colab\"/></a>"
      ]
    },
    {
      "cell_type": "markdown",
      "source": [
        "**NFL MVP/Super Bowl MVP Percentage**"
      ],
      "metadata": {
        "id": "dIJ9tl6madsR"
      }
    },
    {
      "cell_type": "markdown",
      "source": [
        "import packages."
      ],
      "metadata": {
        "id": "YYUOtChCapZ1"
      }
    },
    {
      "cell_type": "code",
      "source": [
        "from bs4 import BeautifulSoup as Soup\n",
        "from pandas import DataFrame\n",
        "import pandas as pd\n",
        "import requests"
      ],
      "metadata": {
        "id": "tFUxVJNTXT-z"
      },
      "execution_count": 81,
      "outputs": []
    },
    {
      "cell_type": "markdown",
      "source": [
        "Scrape historical data for NFL MVPs and Super Bowl MVPs."
      ],
      "metadata": {
        "id": "Q_NCbgTfa2yQ"
      }
    },
    {
      "cell_type": "code",
      "source": [
        "league = requests.get('https://eatdrinkandsleepfootball.com/history/awards/mvp.html')\n",
        "league_soup = Soup(league.text, features='lxml')\n",
        "league_table = league_soup.find_all('table')  # finding all tags labeled table for choosing table in next line\n",
        "league_table = league_table[0]  # choosing the first table on website\n",
        "league_rows = league_table.find_all('tr')  # finding all tags labeled tr to find table rows\n",
        "\n",
        "superbowl = requests.get('https://www.foxsports.com/nfl-super-bowl-mvps')\n",
        "superbowl_soup = Soup(superbowl.text, features='lxml')\n",
        "superbowl_table = superbowl_soup.find_all('table')\n",
        "superbowl_table = superbowl_table[0]\n",
        "superbowl_rows = superbowl_table.find_all('tr')"
      ],
      "metadata": {
        "id": "Xb5AzXribCBN"
      },
      "execution_count": 82,
      "outputs": []
    },
    {
      "cell_type": "markdown",
      "source": [
        "Writing a fuction that I found from Learn to Code with Fantasy Football to take the BeautifulSoup objects and convert them to python strings."
      ],
      "metadata": {
        "id": "aNH5wXuzba3Z"
      }
    },
    {
      "cell_type": "code",
      "source": [
        "def parse_row(row):\n",
        "    return [str(x.string) for x in row.find_all('td')]"
      ],
      "metadata": {
        "id": "EmXFngEzbmLn"
      },
      "execution_count": 83,
      "outputs": []
    },
    {
      "cell_type": "markdown",
      "source": [
        "Using the parse_row function and DataFrame method to convert to Pandas dataframe "
      ],
      "metadata": {
        "id": "THkLCaOHbvuU"
      }
    },
    {
      "cell_type": "code",
      "source": [
        "list_parsed_superbowl = [parse_row(row) for row in superbowl_rows]\n",
        "superbowl_mvp = DataFrame(list_parsed_superbowl)\n",
        "\n",
        "list_parsed_mvp = [parse_row(row) for row in league_rows[1:]]\n",
        "league_mvp = DataFrame(list_parsed_mvp)"
      ],
      "metadata": {
        "id": "B5byDcmFcAsV"
      },
      "execution_count": 84,
      "outputs": []
    },
    {
      "cell_type": "markdown",
      "source": [
        "The following code takes the Super Bowl data and cleans the data to help with merging."
      ],
      "metadata": {
        "id": "ZVpTekR2cLn7"
      }
    },
    {
      "cell_type": "code",
      "source": [
        "superbowl_mvp.columns = ['superbowl', 'year', 'superbowl_mvp', 'position', 'winning_team']  # naming the columns\n",
        "superbowl_mvp = superbowl_mvp[1:]  # slicing to remove first row of irrelevant data\n",
        "superbowl_mvp.set_index('superbowl', inplace=True)  # setting index to Superbowl number\n",
        "superbowl_mvp.drop('position', axis=1, inplace=True)  # dropping the position columns\n",
        "superbowl_mvp['winning_team'] = (superbowl_mvp['winning_team'].apply(lambda x: x.split(' ')[-1]))  # removing team name\n",
        "# from winning_team (i.e. \"Packers\" from \"Green Bay Packers\" to match team name format in league MVP table"
      ],
      "metadata": {
        "id": "JKYnIWQDcYOQ"
      },
      "execution_count": 85,
      "outputs": []
    },
    {
      "cell_type": "markdown",
      "source": [
        "The following code does the same cleaning as before, but for the league MVP data."
      ],
      "metadata": {
        "id": "lw-bFKbKchkT"
      }
    },
    {
      "cell_type": "code",
      "source": [
        "league_mvp.columns = ['year', 'league_mvp']  # setting the name of the columns\n",
        "league_mvp.sort_values('year', ascending=True, inplace=True)  # sorting the table by year\n",
        "league_mvp = league_mvp[9:]  # this slice eliminates the league MVPs that were awarded before first Superbowl\n",
        "league_mvp['mvp_team'] = (league_mvp['league_mvp'].apply(lambda x: x.split(', ')[-1]))\n",
        "league_mvp['league_mvp'] = (league_mvp['league_mvp'].apply(lambda x: x.split(', ')[0]))\n",
        "league_mvp['league_mvp'] = league_mvp['league_mvp'].str.replace('NFL: ', '')"
      ],
      "metadata": {
        "id": "ZS-hGT2qcfwI"
      },
      "execution_count": 86,
      "outputs": []
    },
    {
      "cell_type": "markdown",
      "source": [
        "Merge the league MVP and Super Bowl data frames."
      ],
      "metadata": {
        "id": "CsROo_aKdICL"
      }
    },
    {
      "cell_type": "code",
      "source": [
        "df = pd.merge(league_mvp, superbowl_mvp, on='year')"
      ],
      "metadata": {
        "id": "lHDC6BO9c2O1"
      },
      "execution_count": 87,
      "outputs": []
    },
    {
      "cell_type": "markdown",
      "source": [
        "Add a boolean column to the merged data frame that states whether the same player won both awards for a year or not."
      ],
      "metadata": {
        "id": "WHq45XQZdbEh"
      }
    },
    {
      "cell_type": "code",
      "source": [
        "df['league_and_superbowl'] = df['league_mvp'] == df['superbowl_mvp']\n",
        "same_player = df['league_and_superbowl'] == True"
      ],
      "metadata": {
        "id": "87g-LdNYdupI"
      },
      "execution_count": 88,
      "outputs": []
    },
    {
      "cell_type": "markdown",
      "source": [
        "Finding the average number of times the player won both awards and printing results."
      ],
      "metadata": {
        "id": "6GiyJEged2_p"
      }
    },
    {
      "cell_type": "code",
      "source": [
        "average = round((same_player.mean() * 100), 1)"
      ],
      "metadata": {
        "id": "tPa-rrs-dzDZ"
      },
      "execution_count": 89,
      "outputs": []
    },
    {
      "cell_type": "code",
      "source": [
        "print(f'Since Super Bowl I (1967), the NFL MVP has also won the Super Bowl MVP {average}% of the time!')"
      ],
      "metadata": {
        "colab": {
          "base_uri": "https://localhost:8080/"
        },
        "id": "xuNxO6Kxd8_M",
        "outputId": "7344ca6c-7eb8-4800-db6e-22c85f418f33"
      },
      "execution_count": 90,
      "outputs": [
        {
          "output_type": "stream",
          "name": "stdout",
          "text": [
            "Since Super Bowl I (1967), the NFL MVP has also won the Super Bowl MVP 7.1% of the time!\n"
          ]
        }
      ]
    }
  ]
}
